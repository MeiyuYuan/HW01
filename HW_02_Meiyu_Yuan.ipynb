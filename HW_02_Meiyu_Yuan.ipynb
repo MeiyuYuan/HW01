{
 "cells": [
  {
   "cell_type": "markdown",
   "id": "d10cfcc4",
   "metadata": {},
   "source": [
    "1.\n",
    "Initialize Variables: Set up the doors and your initial choice.\n",
    "\n",
    "Simulation Loop: For a specified number of repetitions:\n",
    "\n",
    "Randomly select the winning door.\n",
    "Create a list of doors excluding the winning door and your initial choice.\n",
    "Randomly reveal a losing door from the remaining options.\n",
    "If your initial choice wasn’t the winning door, add it back to the options.\n",
    "Swap your choice to the only remaining door.\n",
    "Check if the new choice is the winning door and count wins.\n",
    "Final Probability: The probability of winning by swapping is calculated by dividing the number of wins by the total repetitions."
   ]
  },
  {
   "cell_type": "code",
   "execution_count": null,
   "id": "ecb6a338",
   "metadata": {},
   "outputs": [],
   "source": [
    "all_door_options_list.append(secret_winning_door)\n",
    "\n",
    "# Purpose: If the winning door is not the contestant's choice, it means that one of the doors revealed by the host (the \"goat\" door) can only be one of the other two doors (since one door is already chosen, and the winning door is not the chosen door).\n",
    "\n",
    "# Appending the Winning Door: In this case, the winning door (which hasn't been revealed) is added back to the list of options:\n",
    "\n",
    "# This ensures that after the host shows the goat door, if the contestant initially chooses something other than the winning door, the winning door is still a valid option that the contestant can switch to."
   ]
  },
  {
   "cell_type": "markdown",
   "id": "d30638f9",
   "metadata": {},
   "source": [
    "2.\n",
    "Simplified Door Selection:\n",
    "This code uses np.random.randint(NUM_DOORS) to select the winning door and the contestant's initial choice. This approach is more straightforward and eliminates the need for handling tuples and lists, simplifying the logic.\n",
    "\n",
    "Set Operations for Remaining Doors:\n",
    "It uses set operations to determine the remaining doors and the revealed goat door. This is efficient because it avoids the need for explicit list manipulations like removing items, making the code cleaner and potentially faster.\n",
    "\n",
    "Single Calculation of New Choice:\n",
    "The new choice is determined in one step using set operations, making the logic clearer and more efficient. It directly computes the door to switch to without the need to append items back into a list, as done in the previous code.\n",
    "\n",
    "Readability:\n",
    "Overall, the code is more readable and easier to follow due to the use of set operations and clearer variable names. This can help with understanding the flow of the simulation.\n",
    "\n",
    "Efficiency:\n",
    "The new implementation minimizes the number of operations per simulation run, which can improve efficiency when running a high number of simulations."
   ]
  },
  {
   "cell_type": "markdown",
   "id": "6b79a737",
   "metadata": {},
   "source": [
    "f-string: The f before the opening quote indicates that this is a formatted string literal (f-string). This allows you to embed expressions inside curly braces {} which will be evaluated at runtime.\n",
    "\n",
    "Formatting Specification: The :.4f inside the curly braces is a formatting specification:\n",
    "\n",
    ": indicates that formatting will follow.\n",
    ".4f means that the number will be formatted as a floating-point number with 4 decimal places.\n",
    ".4 specifies the precision (4 digits after the decimal point).\n",
    "f stands for \"floating-point\"."
   ]
  },
  {
   "cell_type": "markdown",
   "id": "872f106c",
   "metadata": {},
   "source": [
    "3."
   ]
  },
  {
   "cell_type": "code",
   "execution_count": 21,
   "id": "f3c6b8c9",
   "metadata": {},
   "outputs": [
    {
     "name": "stdout",
     "output_type": "stream",
     "text": [
      "Probability of winning by switching: 0.6668\n"
     ]
    }
   ],
   "source": [
    "import numpy as np\n",
    "\n",
    "NUM_DOORS = 3\n",
    "num_simulations = 100000  \n",
    "\n",
    "wins = 0\n",
    "\n",
    "for _ in range(num_simulations):\n",
    "    winning_door = np.random.randint(NUM_DOORS)\n",
    "    \n",
    "    contestant_choice = np.random.randint(NUM_DOORS)\n",
    "\n",
    "    remaining_doors = set(range(NUM_DOORS)) - {contestant_choice, winning_door}\n",
    "    \n",
    "    revealed_goat_door = np.random.choice(list(remaining_doors))\n",
    "    \n",
    "    new_choice = (set(range(NUM_DOORS)) - {contestant_choice, revealed_goat_door}).pop()\n",
    "\n",
    "    if new_choice == winning_door:\n",
    "        wins += 1\n",
    "\n",
    "winning_probability = wins / num_simulations\n",
    "print(f\"Probability of winning by switching: {winning_probability:.4f}\")"
   ]
  },
  {
   "cell_type": "code",
   "execution_count": 47,
   "id": "3dbc83b3",
   "metadata": {},
   "outputs": [
    {
     "name": "stdout",
     "output_type": "stream",
     "text": [
      "Probability of winning by switching: 0.6668\n"
     ]
    }
   ],
   "source": [
    "import numpy as np\n",
    "\n",
    "# Constants\n",
    "NUM_DOORS = 3\n",
    "num_simulations = 100000  # Number of simulations\n",
    "\n",
    "# Counter for the number of wins when switching\n",
    "wins = 0\n",
    "\n",
    "for _ in range(num_simulations):\n",
    "    # Randomly choose the door with the prize\n",
    "    winning_door = np.random.randint(NUM_DOORS)\n",
    "    \n",
    "    # Randomly select the contestant's initial choice\n",
    "    contestant_choice = np.random.randint(NUM_DOORS)\n",
    "    \n",
    "    # Determine the door the host will reveal (a door that is neither the contestant's choice nor the winning door)\n",
    "    remaining_doors = set(range(NUM_DOORS)) - {contestant_choice, winning_door}\n",
    "    \n",
    "    # Randomly reveal a goat door from the remaining options\n",
    "    revealed_goat_door = np.random.choice(list(remaining_doors))\n",
    "    \n",
    "    # Determine the door to switch to (the only remaining door that is not the initial choice or the revealed goat door)\n",
    "    new_choice = (set(range(NUM_DOORS)) - {contestant_choice, revealed_goat_door}).pop()\n",
    "\n",
    "    # Check if the new choice is the winning door\n",
    "    if new_choice == winning_door:\n",
    "        wins += 1\n",
    "\n",
    "# Calculate and print the probability of winning by switching\n",
    "winning_probability = wins / num_simulations\n",
    "print(f\"Probability of winning by switching: {winning_probability:.4f}\")"
   ]
  },
  {
   "cell_type": "markdown",
   "id": "9f3855bd",
   "metadata": {},
   "source": [
    "(1-3) link of chat log histories: https://chatgpt.com/share/66ebb698-bc80-8004-a784-da8a3af57a0d"
   ]
  },
  {
   "cell_type": "code",
   "execution_count": null,
   "id": "104263ee",
   "metadata": {},
   "outputs": [],
   "source": [
    "4.\n",
    "# Markovian Chatbot\n",
    "\n",
    "# Initialize dictionaries to store word counts and transitions\n",
    "# from collections import defaultdict\n",
    "word_used = dict() # defaultdict(int)  (# Tracks how many times each word appears)\n",
    "next_word = dict() # defaultdict(lambda: defaultdict(int))  (# Tracks how often one word is followed by another)\n",
    "\n",
    "# Loop through each word in the list of words (except the last one)\n",
    "for i,word in enumerate(words[:-1]):\n",
    "\n",
    "    # Update the count of how many times the current word has been used\n",
    "    if word in word_used:\n",
    "        word_used[word] += 1\n",
    "    else:\n",
    "        # If the word is new, initialize its count and the dictionary for its next words\n",
    "        word_used[word] = 1\n",
    "        next_word[word] = {}\n",
    "\n",
    "    # Update the count of how often the next word follows the current word\n",
    "    if words[i+1] in next_word[word]:\n",
    "        next_word[word][words[i+1]] += 1\n",
    "    else:\n",
    "        # If the next word has not followed the current word before, initialize its count\n",
    "        next_word[word][words[i+1]] = 1"
   ]
  },
  {
   "cell_type": "markdown",
   "id": "e2838279",
   "metadata": {},
   "source": [
    "(4) link of chat log histories: https://chatgpt.com/share/66ec6f82-e4d0-8004-8635-807cf186658a"
   ]
  },
  {
   "cell_type": "code",
   "execution_count": null,
   "id": "803377f2",
   "metadata": {},
   "outputs": [],
   "source": [
    "5.\n",
    "# Markovian Chatbot Extension #1\n",
    "\n",
    "from collections import defaultdict\n",
    "\n",
    "# Initialize a defaultdict to store counts of word pairs\n",
    "word_used2 = defaultdict(int)  # Tracks how many times a pair of consecutive words appears\n",
    "\n",
    "# Initialize a nested defaultdict to track the next word after each word pair\n",
    "next_word2 = defaultdict(lambda: defaultdict(int))  # Tracks how often a specific word follows a given word pair\n",
    "\n",
    "# Loop through the words list, but stop 2 words before the end to form word pairs and track the following word\n",
    "for i, word in enumerate(words[:-2]):\n",
    "    # Create a pair from the current word and the next word, then update the count for that pair\n",
    "    word_used2[word + ' ' + words[i+1]] += 1\n",
    "    \n",
    "    # Track the word that follows the current word pair and update its count\n",
    "    next_word2[word + ' ' + words[i+1]][words[i+2]] += 1"
   ]
  },
  {
   "cell_type": "code",
   "execution_count": null,
   "id": "081403ea",
   "metadata": {},
   "outputs": [],
   "source": [
    "# Markovian Chatbot Extension #2\n",
    "\n",
    "from collections import Counter, defaultdict\n",
    "\n",
    "# `avatar` is a dataset, and `character` is one of its columns\n",
    "# The following line counts occurrences of characters from the dataset after transforming the character text\n",
    "characters = Counter(\"\\n\"+ avatar.character.str.upper().str.replace(' ','.')+\":\")\n",
    "\n",
    "# The character text is converted to uppercase and spaces are replaced with '.' to standardize formatting.\n",
    "# The Counter is used to count how often each character appears in the dataset.\n",
    "\n",
    "# Create a nested defaultdict structure where each level is another defaultdict\n",
    "nested_dict = lambda: defaultdict(nested_dict)\n",
    "word_used2C = nested_dict()  # Stores word pair frequencies for each character\n",
    "next_word2C = nested_dict()  # Stores next-word frequencies after a word pair for each character\n",
    "\n",
    "# Loop through the list of words, except for the last two words\n",
    "for i, word in enumerate(words[:-2]):\n",
    "    \n",
    "    # If the current word is in the `characters` list, assign it as the current character\n",
    "    if word in characters:\n",
    "        character = word\n",
    "    \n",
    "    # Initialize `word_used2C` for the character if it doesn't already exist\n",
    "    if character not in word_used2C:\n",
    "        word_used2C[character] = dict()\n",
    "    \n",
    "    # For the current word pair, initialize the count if it hasn't been added yet\n",
    "    if word+' '+words[i+1] not in word_used2C[character]:\n",
    "        word_used2C[character][word+' '+words[i+1]] = 0\n",
    "    \n",
    "    # Increment the count of the word pair for the current character\n",
    "    word_used2C[character][word+' '+words[i+1]] += 1\n",
    "\n",
    "    # Initialize `next_word2C` for the character if it doesn't already exist\n",
    "    if character not in next_word2C:\n",
    "        next_word2C[character] = dict()\n",
    "    \n",
    "    # For the current word pair, initialize the next word dictionary if it hasn't been added yet\n",
    "    if word+' '+words[i+1] not in next_word2C[character]:\n",
    "        next_word2C[character][word+' '+words[i+1]] = dict()\n",
    "    \n",
    "    # Initialize the count for the word that follows the word pair\n",
    "    if words[i+2] not in next_word2C[character][word+' '+words[i+1]]:\n",
    "        next_word2C[character][word+' '+words[i+1]][words[i+2]] = 0\n",
    "    \n",
    "    # Increment the count for the next word after the current word pair for the current character\n",
    "    next_word2C[character][word+' '+words[i+1]][words[i+2]] += 1"
   ]
  },
  {
   "cell_type": "markdown",
   "id": "92bd612d",
   "metadata": {},
   "source": [
    "It's still able to understand everything extension does; namely, making character specific Markov chains, and using bigrams (rather than just the previous word alone) dependency."
   ]
  },
  {
   "cell_type": "code",
   "execution_count": null,
   "id": "338dc5fe",
   "metadata": {},
   "outputs": [],
   "source": [
    "(5) link of chat log histories: https://chatgpt.com/share/66ec9bac-dd30-8004-ba38-99470ec30fb4\n",
    "                                \n",
    "                                https://chatgpt.com/share/66eca5d0-8d6c-8004-ae5a-65d61b54cd54"
   ]
  },
  {
   "cell_type": "markdown",
   "id": "4dcbf498",
   "metadata": {},
   "source": [
    "6.\n",
    "    1. For the Monte Hall problem and Markovian ChatBot code, Chatbot was able to quickly provide explanatory answers to each of the questions I asked in less than 20 seconds and was able to analyze the code's strengths, weaknesses, and areas of improvement. ChatBot helped me to understand the logic of the code and directly providing clean code that simulated the Monte Hall problem to optimize the code's logic and increase the efficiency of code execution. For Markovian ChatBot code, ChatBot explains complex data structures and analyzes optimizations (binary syntactic dependencies) that different extensions have. With ChatBot's explanations of data and code structures, I was able to quickly understand how to build a (character-specific) Markov chain model using dictionaries and understand unintelligible statements in the code.\n",
    "    \n",
    "    2. Solving problems by interacting with ChatBot is not frustrating or unhelpful, as in most cases ChatBot is able to quickly analyze the problem and provide clear explanations, suggestions and improvements. However, it cannot be ruled out that in individual complex problems, ChatBot has difficulty in understanding the problem directly and provides answers that do not meet expectations. In such cases, it is only necessary to guide ChatBot to the expected answer through precise wording or further detailed questioning.\n",
    "    \n",
    "    3. In summary, as a tool to help me understand the code ChatBots is very efficient and helpful, in terms of code learning it can help me improve my learning efficiency by 60-70%. When it comes to solving errors in coding, it quickly helps me fix code errors and explains the logic and principles. Whether it's a complex or simple programming problem, it helps me grasp the concepts and how to use the code. However, in general the first answers provided by ChatBots were relatively concise or flexible code, and when I wanted to use a particular piece of code I needed to give it several hints/detailed and specific further descriptions. In individual problems with inaccurate descriptions, ChatBots occasionally misinterpreted what I meant or provided other examples of relevant code.\n",
    "    \n",
    "    link of chat log histories: https://chatgpt.com/share/66ec6f82-e4d0-8004-8635-807cf186658a\n",
    "                                \n",
    "                                https://chatgpt.com/share/66ec9bac-dd30-8004-ba38-99470ec30fb4\n",
    "                                \n",
    "                                https://chatgpt.com/share/66eca5d0-8d6c-8004-ae5a-65d61b54cd54"
   ]
  },
  {
   "cell_type": "markdown",
   "id": "02a4d21e",
   "metadata": {},
   "source": [
    "7. My views have definitely evolved. \n",
    "Before attending the course I also thought that AI-driven aids could help people with some of their technical or common problems by providing relevant information.\n",
    "However, I don't think it can be ruled out that the information it provides is likely to be wrong or randomly made up. \n",
    "After starting to learn coding, statistics and data science, I realized that my doubts were overdone.AI tools not only can be used as an aid to solve problems, it provided me with adequate support in all aspects of my learning process. \n",
    "It provided me with detailed explanations and examples of programming concepts, statistical analysis, and data science techniques, like a textbook of instant calculations for my personal use. \n",
    "For the Monte Hall problem and the “Markovian ChatBot” code, chatgpt helped me understand the complexities of coding and logical reasoning. \n",
    "They also serve as an aid in identifying errors while suggesting efficient ways of coding, and have the ability to break down complex concepts into specific parts for analysis. \n",
    "In addition to this, no matter at what time I had a question about a particular part of knowledge, I could always get a clear and specific answer by asking it. \n",
    "AI driven assistance expanded my learning mindset and made it easier and faster for me to learn this course as a student with a weak foundation in coding."
   ]
  },
  {
   "cell_type": "markdown",
   "id": "e42e4d0b",
   "metadata": {},
   "source": [
    "8. link of chat log histories: https://chatgpt.com/share/66eccc48-59bc-8004-a3a0-472e8ab10fed\n",
    "        \n",
    "   For the field of artificial intelligence, AI is currently making significant progress in narrowly defined applications (e.g., image recognition and natural language processing), but achieving true generalization - i.e., the ability of AI to perform a wide range of tasks with human-like dexterity - remains a complex challenge. \n",
    "If interested in pursuing research in the field of AI, researchers typically need to have strong technical skills (e.g., data analytics, programming, and specific applications of machine learning) and a broad range of knowledge (including cognitive science, psychology, and ethics, among others) in order to understand and build systems capable of emulating human intelligence. \n",
    "First, courses in areas such as machine learning, deep learning, and statistics are necessary in order to master the basics. \n",
    "After some academic success, we should apply the knowledge gained to solve real-world problems and enhance technical skills through projects or internship opportunities. \n",
    "In addition to this, we needs to learn about interdisciplinary aspects of psychology and ethics, stay up-to-date on the latest research, read scholarly papers and attend industry conferences in order to keep abreast of cutting-edge developments. \n",
    "Chatgpt provides helpful information in terms of initial understanding of career concepts and skills. \n",
    "However, the information is high level and generalized and lacks in-depth exploration of specific topics. \n",
    "I will learn more by exploring relevant resources (books, courses, articles, or videos) on my own, asking more specific and detailed questions to chatgpt and requesting relevant examples once I have partial knowledge."
   ]
  },
  {
   "cell_type": "markdown",
   "id": "74269744",
   "metadata": {},
   "source": [
    "9. Mostly."
   ]
  }
 ],
 "metadata": {
  "kernelspec": {
   "display_name": "Python 3 (ipykernel)",
   "language": "python",
   "name": "python3"
  },
  "language_info": {
   "codemirror_mode": {
    "name": "ipython",
    "version": 3
   },
   "file_extension": ".py",
   "mimetype": "text/x-python",
   "name": "python",
   "nbconvert_exporter": "python",
   "pygments_lexer": "ipython3",
   "version": "3.11.6"
  }
 },
 "nbformat": 4,
 "nbformat_minor": 5
}
